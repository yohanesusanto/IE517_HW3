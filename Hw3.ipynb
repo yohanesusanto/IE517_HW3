{
 "cells": [
  {
   "cell_type": "code",
   "execution_count": 101,
   "metadata": {},
   "outputs": [
    {
     "name": "stdout",
     "output_type": "stream",
     "text": [
      "Size of data 2721 x 37\n",
      "       CUSIP  Ticker  Issue Date    Maturity 1st Call Date Moodys S_and_P  \\\n",
      "0  000324AA1  FLECIN    7/1/2014    7/1/2019    10/23/2017    Nan     Nan   \n",
      "1  00080QAB1     RBS   3/15/2004    6/4/2018           Nan    Ba1     BB+   \n",
      "2  00081TAD0    ACCO   5/14/2010   3/15/2015           Nan     WR      NR   \n",
      "3  00081TAH1    ACCO   6/17/2013   4/30/2020           Nan     WR      NR   \n",
      "4  00081TAJ7    ACCO  12/22/2016  12/15/2024    12/15/2019     B1     BB-   \n",
      "\n",
      "  Fitch Bloomberg Composite Rating  Coupon  ...  percent_intra_dealer  \\\n",
      "0   Nan                        Nan   12.00  ...              0.006645   \n",
      "1   BBB                        BB+    4.65  ...              0.425018   \n",
      "2   BB+                         NR   10.63  ...              0.115207   \n",
      "3    WD                         NR    6.75  ...              0.426332   \n",
      "4    BB                        BB-    5.25  ...              0.157216   \n",
      "\n",
      "  percent_uncapped bond_type  Client_Trade_Percentage weekly_mean_volume  \\\n",
      "0         0.292359         5                 0.521595        3105926.765   \n",
      "1         0.974071         2                 0.337071        1721696.774   \n",
      "2         0.594470         5                 0.467742        4200313.433   \n",
      "3         0.892462         3                 0.212864        6321559.783   \n",
      "4         0.690722         5                 0.500000        5936714.286   \n",
      "\n",
      "   weekly_median_volume weekly_max_volume weekly_min_volume  \\\n",
      "0             2000000.0        18980000.0           60000.0   \n",
      "1             1160000.0        11197000.0            5000.0   \n",
      "2             3520000.0        14000000.0           24000.0   \n",
      "3             5487500.0        18459000.0           30000.0   \n",
      "4             3305500.0        72760000.0           90000.0   \n",
      "\n",
      "  weekly_mean_ntrades weekly_median_ntrades  \n",
      "0            3.541176                     1  \n",
      "1           18.412903                     3  \n",
      "2            6.477612                     1  \n",
      "3           27.038043                     1  \n",
      "4            9.238095                     1  \n",
      "\n",
      "[5 rows x 37 columns]\n"
     ]
    }
   ],
   "source": [
    "import pandas as pd\n",
    "import numpy as np\n",
    "import seaborn as sns\n",
    "import matplotlib.pyplot as plt\n",
    "import scipy.stats as stats\n",
    "from sklearn.preprocessing import StandardScaler\n",
    "import pylab\n",
    "#import data\n",
    "df = pd.read_csv('HY_Universe_corporatebond.csv')\n",
    "#summary of data\n",
    "print(\"Size of data \" + str(len(df)) + \" x \" + str(len(df.columns)))\n",
    "print(df.head())"
   ]
  },
  {
   "cell_type": "code",
   "execution_count": 102,
   "metadata": {},
   "outputs": [
    {
     "name": "stdout",
     "output_type": "stream",
     "text": [
      "CUSIP                          object\n",
      "Ticker                         object\n",
      "Issue Date                     object\n",
      "Maturity                       object\n",
      "1st Call Date                  object\n",
      "Moodys                         object\n",
      "S_and_P                        object\n",
      "Fitch                          object\n",
      "Bloomberg Composite Rating     object\n",
      "Coupon                        float64\n",
      "Issued Amount                 float64\n",
      "Maturity Type                  object\n",
      "Coupon Type                    object\n",
      "Maturity At Issue months      float64\n",
      "Industry                       object\n",
      "LiquidityScore                float64\n",
      "Months in JNK                  object\n",
      "Months in HYG                  object\n",
      "Months in Both                 object\n",
      "IN_ETF                         object\n",
      "LIQ SCORE                     float64\n",
      "n_trades                        int64\n",
      "volume_trades                 float64\n",
      "total_median_size             float64\n",
      "total_mean_size               float64\n",
      "n_days_trade                    int64\n",
      "days_diff_max                   int64\n",
      "percent_intra_dealer          float64\n",
      "percent_uncapped              float64\n",
      "bond_type                       int64\n",
      "Client_Trade_Percentage       float64\n",
      "weekly_mean_volume            float64\n",
      "weekly_median_volume          float64\n",
      "weekly_max_volume             float64\n",
      "weekly_min_volume             float64\n",
      "weekly_mean_ntrades           float64\n",
      "weekly_median_ntrades           int64\n",
      "dtype: object\n",
      "object\n",
      "Total number of numeric columns: 21\n",
      "Total number of categorical columns: 16\n"
     ]
    }
   ],
   "source": [
    "#determine how many of the columns of data are numeric versus categorical\n",
    "print(df.dtypes)\n",
    "i=0\n",
    "j=0\n",
    "print(df.iloc[0].dtypes)\n",
    "for a in range(len(df.columns)):\n",
    "    if(df.iloc[: ,a].dtypes == object):\n",
    "        i += 1\n",
    "    else:\n",
    "        j += 1\n",
    "print('Total number of numeric columns: ' + str(j))\n",
    "print('Total number of categorical columns: ' + str(i))"
   ]
  },
  {
   "cell_type": "code",
   "execution_count": 103,
   "metadata": {},
   "outputs": [
    {
     "name": "stdout",
     "output_type": "stream",
     "text": [
      "CUSIP                         0\n",
      "Ticker                        0\n",
      "Issue Date                    0\n",
      "Maturity                      0\n",
      "1st Call Date                 0\n",
      "Moodys                        0\n",
      "S_and_P                       0\n",
      "Fitch                         0\n",
      "Bloomberg Composite Rating    0\n",
      "Coupon                        0\n",
      "Issued Amount                 0\n",
      "Maturity Type                 0\n",
      "Coupon Type                   0\n",
      "Maturity At Issue months      0\n",
      "Industry                      0\n",
      "LiquidityScore                0\n",
      "Months in JNK                 0\n",
      "Months in HYG                 0\n",
      "Months in Both                0\n",
      "IN_ETF                        0\n",
      "LIQ SCORE                     0\n",
      "n_trades                      0\n",
      "volume_trades                 0\n",
      "total_median_size             0\n",
      "total_mean_size               0\n",
      "n_days_trade                  0\n",
      "days_diff_max                 0\n",
      "percent_intra_dealer          0\n",
      "percent_uncapped              0\n",
      "bond_type                     0\n",
      "Client_Trade_Percentage       0\n",
      "weekly_mean_volume            0\n",
      "weekly_median_volume          0\n",
      "weekly_max_volume             0\n",
      "weekly_min_volume             0\n",
      "weekly_mean_ntrades           0\n",
      "weekly_median_ntrades         0\n",
      "dtype: int64\n",
      "It can be seen that there are no missing values, Nan values that we have in the table are intended to be Nan\n"
     ]
    }
   ],
   "source": [
    "print(df.isnull().sum())\n",
    "print(\"It can be seen that there are no missing values, Nan values that we have in the table are intended to be Nan\")"
   ]
  },
  {
   "cell_type": "code",
   "execution_count": 104,
   "metadata": {},
   "outputs": [
    {
     "data": {
      "text/html": [
       "<div>\n",
       "<style scoped>\n",
       "    .dataframe tbody tr th:only-of-type {\n",
       "        vertical-align: middle;\n",
       "    }\n",
       "\n",
       "    .dataframe tbody tr th {\n",
       "        vertical-align: top;\n",
       "    }\n",
       "\n",
       "    .dataframe thead th {\n",
       "        text-align: right;\n",
       "    }\n",
       "</style>\n",
       "<table border=\"1\" class=\"dataframe\">\n",
       "  <thead>\n",
       "    <tr style=\"text-align: right;\">\n",
       "      <th></th>\n",
       "      <th>Coupon</th>\n",
       "      <th>Issued Amount</th>\n",
       "      <th>Maturity At Issue months</th>\n",
       "      <th>LiquidityScore</th>\n",
       "      <th>LIQ SCORE</th>\n",
       "      <th>n_trades</th>\n",
       "      <th>volume_trades</th>\n",
       "      <th>total_median_size</th>\n",
       "      <th>total_mean_size</th>\n",
       "      <th>n_days_trade</th>\n",
       "      <th>...</th>\n",
       "      <th>percent_intra_dealer</th>\n",
       "      <th>percent_uncapped</th>\n",
       "      <th>bond_type</th>\n",
       "      <th>Client_Trade_Percentage</th>\n",
       "      <th>weekly_mean_volume</th>\n",
       "      <th>weekly_median_volume</th>\n",
       "      <th>weekly_max_volume</th>\n",
       "      <th>weekly_min_volume</th>\n",
       "      <th>weekly_mean_ntrades</th>\n",
       "      <th>weekly_median_ntrades</th>\n",
       "    </tr>\n",
       "  </thead>\n",
       "  <tbody>\n",
       "    <tr>\n",
       "      <th>count</th>\n",
       "      <td>2721.000000</td>\n",
       "      <td>2.721000e+03</td>\n",
       "      <td>2721.000000</td>\n",
       "      <td>2721.000000</td>\n",
       "      <td>2721.000000</td>\n",
       "      <td>2721.000000</td>\n",
       "      <td>2.721000e+03</td>\n",
       "      <td>2.721000e+03</td>\n",
       "      <td>2.721000e+03</td>\n",
       "      <td>2721.000000</td>\n",
       "      <td>...</td>\n",
       "      <td>2721.000000</td>\n",
       "      <td>2721.000000</td>\n",
       "      <td>2721.000000</td>\n",
       "      <td>2721.000000</td>\n",
       "      <td>2.721000e+03</td>\n",
       "      <td>2.721000e+03</td>\n",
       "      <td>2.721000e+03</td>\n",
       "      <td>2.721000e+03</td>\n",
       "      <td>2721.000000</td>\n",
       "      <td>2721.000000</td>\n",
       "    </tr>\n",
       "    <tr>\n",
       "      <th>mean</th>\n",
       "      <td>10.307872</td>\n",
       "      <td>8.299295e+08</td>\n",
       "      <td>113.968997</td>\n",
       "      <td>18.218230</td>\n",
       "      <td>0.182182</td>\n",
       "      <td>2700.696435</td>\n",
       "      <td>7.222372e+08</td>\n",
       "      <td>5.361476e+05</td>\n",
       "      <td>5.255853e+05</td>\n",
       "      <td>316.581771</td>\n",
       "      <td>...</td>\n",
       "      <td>0.244306</td>\n",
       "      <td>0.676536</td>\n",
       "      <td>3.496141</td>\n",
       "      <td>0.379648</td>\n",
       "      <td>7.588325e+06</td>\n",
       "      <td>5.672609e+06</td>\n",
       "      <td>4.915523e+07</td>\n",
       "      <td>6.690499e+05</td>\n",
       "      <td>21.598988</td>\n",
       "      <td>2.471885</td>\n",
       "    </tr>\n",
       "    <tr>\n",
       "      <th>std</th>\n",
       "      <td>63.051382</td>\n",
       "      <td>5.802790e+08</td>\n",
       "      <td>101.893176</td>\n",
       "      <td>7.872071</td>\n",
       "      <td>0.078721</td>\n",
       "      <td>5572.262205</td>\n",
       "      <td>1.027825e+09</td>\n",
       "      <td>4.193546e+05</td>\n",
       "      <td>2.670677e+05</td>\n",
       "      <td>347.802629</td>\n",
       "      <td>...</td>\n",
       "      <td>0.152165</td>\n",
       "      <td>0.219661</td>\n",
       "      <td>1.712004</td>\n",
       "      <td>0.144545</td>\n",
       "      <td>8.979311e+06</td>\n",
       "      <td>7.340321e+06</td>\n",
       "      <td>6.703860e+07</td>\n",
       "      <td>3.094537e+06</td>\n",
       "      <td>32.901129</td>\n",
       "      <td>5.581749</td>\n",
       "    </tr>\n",
       "    <tr>\n",
       "      <th>min</th>\n",
       "      <td>0.000000</td>\n",
       "      <td>3.700000e+08</td>\n",
       "      <td>11.930000</td>\n",
       "      <td>4.388758</td>\n",
       "      <td>0.043888</td>\n",
       "      <td>1.000000</td>\n",
       "      <td>7.000000e+03</td>\n",
       "      <td>4.000000e+03</td>\n",
       "      <td>5.000000e+03</td>\n",
       "      <td>1.000000</td>\n",
       "      <td>...</td>\n",
       "      <td>0.000000</td>\n",
       "      <td>0.000000</td>\n",
       "      <td>1.000000</td>\n",
       "      <td>0.000000</td>\n",
       "      <td>7.000000e+03</td>\n",
       "      <td>7.000000e+03</td>\n",
       "      <td>7.000000e+03</td>\n",
       "      <td>1.400000e+01</td>\n",
       "      <td>1.000000</td>\n",
       "      <td>1.000000</td>\n",
       "    </tr>\n",
       "    <tr>\n",
       "      <th>25%</th>\n",
       "      <td>5.000000</td>\n",
       "      <td>5.000000e+08</td>\n",
       "      <td>65.170000</td>\n",
       "      <td>12.738630</td>\n",
       "      <td>0.127386</td>\n",
       "      <td>116.000000</td>\n",
       "      <td>6.189000e+07</td>\n",
       "      <td>7.500000e+04</td>\n",
       "      <td>3.010473e+05</td>\n",
       "      <td>45.000000</td>\n",
       "      <td>...</td>\n",
       "      <td>0.124731</td>\n",
       "      <td>0.534224</td>\n",
       "      <td>1.000000</td>\n",
       "      <td>0.290826</td>\n",
       "      <td>2.295273e+06</td>\n",
       "      <td>1.750000e+06</td>\n",
       "      <td>9.020000e+06</td>\n",
       "      <td>2.100000e+04</td>\n",
       "      <td>4.046154</td>\n",
       "      <td>1.000000</td>\n",
       "    </tr>\n",
       "    <tr>\n",
       "      <th>50%</th>\n",
       "      <td>6.250000</td>\n",
       "      <td>6.500000e+08</td>\n",
       "      <td>97.370000</td>\n",
       "      <td>16.538471</td>\n",
       "      <td>0.165385</td>\n",
       "      <td>674.000000</td>\n",
       "      <td>3.480000e+08</td>\n",
       "      <td>5.000000e+05</td>\n",
       "      <td>5.769231e+05</td>\n",
       "      <td>184.000000</td>\n",
       "      <td>...</td>\n",
       "      <td>0.250000</td>\n",
       "      <td>0.681992</td>\n",
       "      <td>5.000000</td>\n",
       "      <td>0.376385</td>\n",
       "      <td>4.926339e+06</td>\n",
       "      <td>3.527000e+06</td>\n",
       "      <td>2.410000e+07</td>\n",
       "      <td>1.060000e+05</td>\n",
       "      <td>10.821429</td>\n",
       "      <td>1.000000</td>\n",
       "    </tr>\n",
       "    <tr>\n",
       "      <th>75%</th>\n",
       "      <td>7.750000</td>\n",
       "      <td>1.000000e+09</td>\n",
       "      <td>121.770000</td>\n",
       "      <td>22.120108</td>\n",
       "      <td>0.221201</td>\n",
       "      <td>2467.000000</td>\n",
       "      <td>9.328420e+08</td>\n",
       "      <td>1.000000e+06</td>\n",
       "      <td>7.289650e+05</td>\n",
       "      <td>483.000000</td>\n",
       "      <td>...</td>\n",
       "      <td>0.356808</td>\n",
       "      <td>0.859256</td>\n",
       "      <td>5.000000</td>\n",
       "      <td>0.448718</td>\n",
       "      <td>9.649299e+06</td>\n",
       "      <td>7.011000e+06</td>\n",
       "      <td>6.370500e+07</td>\n",
       "      <td>4.300000e+05</td>\n",
       "      <td>24.526316</td>\n",
       "      <td>2.000000</td>\n",
       "    </tr>\n",
       "    <tr>\n",
       "      <th>max</th>\n",
       "      <td>999.000000</td>\n",
       "      <td>7.364026e+09</td>\n",
       "      <td>1217.570000</td>\n",
       "      <td>54.673908</td>\n",
       "      <td>0.546739</td>\n",
       "      <td>57935.000000</td>\n",
       "      <td>8.979960e+09</td>\n",
       "      <td>3.400000e+06</td>\n",
       "      <td>3.400000e+06</td>\n",
       "      <td>1667.000000</td>\n",
       "      <td>...</td>\n",
       "      <td>1.000000</td>\n",
       "      <td>1.000000</td>\n",
       "      <td>5.000000</td>\n",
       "      <td>1.000000</td>\n",
       "      <td>1.179500e+08</td>\n",
       "      <td>1.179500e+08</td>\n",
       "      <td>8.728140e+08</td>\n",
       "      <td>1.002500e+08</td>\n",
       "      <td>513.769231</td>\n",
       "      <td>160.000000</td>\n",
       "    </tr>\n",
       "  </tbody>\n",
       "</table>\n",
       "<p>8 rows × 21 columns</p>\n",
       "</div>"
      ],
      "text/plain": [
       "            Coupon  Issued Amount  Maturity At Issue months  LiquidityScore  \\\n",
       "count  2721.000000   2.721000e+03               2721.000000     2721.000000   \n",
       "mean     10.307872   8.299295e+08                113.968997       18.218230   \n",
       "std      63.051382   5.802790e+08                101.893176        7.872071   \n",
       "min       0.000000   3.700000e+08                 11.930000        4.388758   \n",
       "25%       5.000000   5.000000e+08                 65.170000       12.738630   \n",
       "50%       6.250000   6.500000e+08                 97.370000       16.538471   \n",
       "75%       7.750000   1.000000e+09                121.770000       22.120108   \n",
       "max     999.000000   7.364026e+09               1217.570000       54.673908   \n",
       "\n",
       "         LIQ SCORE      n_trades  volume_trades  total_median_size  \\\n",
       "count  2721.000000   2721.000000   2.721000e+03       2.721000e+03   \n",
       "mean      0.182182   2700.696435   7.222372e+08       5.361476e+05   \n",
       "std       0.078721   5572.262205   1.027825e+09       4.193546e+05   \n",
       "min       0.043888      1.000000   7.000000e+03       4.000000e+03   \n",
       "25%       0.127386    116.000000   6.189000e+07       7.500000e+04   \n",
       "50%       0.165385    674.000000   3.480000e+08       5.000000e+05   \n",
       "75%       0.221201   2467.000000   9.328420e+08       1.000000e+06   \n",
       "max       0.546739  57935.000000   8.979960e+09       3.400000e+06   \n",
       "\n",
       "       total_mean_size  n_days_trade  ...  percent_intra_dealer  \\\n",
       "count     2.721000e+03   2721.000000  ...           2721.000000   \n",
       "mean      5.255853e+05    316.581771  ...              0.244306   \n",
       "std       2.670677e+05    347.802629  ...              0.152165   \n",
       "min       5.000000e+03      1.000000  ...              0.000000   \n",
       "25%       3.010473e+05     45.000000  ...              0.124731   \n",
       "50%       5.769231e+05    184.000000  ...              0.250000   \n",
       "75%       7.289650e+05    483.000000  ...              0.356808   \n",
       "max       3.400000e+06   1667.000000  ...              1.000000   \n",
       "\n",
       "       percent_uncapped    bond_type  Client_Trade_Percentage  \\\n",
       "count       2721.000000  2721.000000              2721.000000   \n",
       "mean           0.676536     3.496141                 0.379648   \n",
       "std            0.219661     1.712004                 0.144545   \n",
       "min            0.000000     1.000000                 0.000000   \n",
       "25%            0.534224     1.000000                 0.290826   \n",
       "50%            0.681992     5.000000                 0.376385   \n",
       "75%            0.859256     5.000000                 0.448718   \n",
       "max            1.000000     5.000000                 1.000000   \n",
       "\n",
       "       weekly_mean_volume  weekly_median_volume  weekly_max_volume  \\\n",
       "count        2.721000e+03          2.721000e+03       2.721000e+03   \n",
       "mean         7.588325e+06          5.672609e+06       4.915523e+07   \n",
       "std          8.979311e+06          7.340321e+06       6.703860e+07   \n",
       "min          7.000000e+03          7.000000e+03       7.000000e+03   \n",
       "25%          2.295273e+06          1.750000e+06       9.020000e+06   \n",
       "50%          4.926339e+06          3.527000e+06       2.410000e+07   \n",
       "75%          9.649299e+06          7.011000e+06       6.370500e+07   \n",
       "max          1.179500e+08          1.179500e+08       8.728140e+08   \n",
       "\n",
       "       weekly_min_volume  weekly_mean_ntrades  weekly_median_ntrades  \n",
       "count       2.721000e+03          2721.000000            2721.000000  \n",
       "mean        6.690499e+05            21.598988               2.471885  \n",
       "std         3.094537e+06            32.901129               5.581749  \n",
       "min         1.400000e+01             1.000000               1.000000  \n",
       "25%         2.100000e+04             4.046154               1.000000  \n",
       "50%         1.060000e+05            10.821429               1.000000  \n",
       "75%         4.300000e+05            24.526316               2.000000  \n",
       "max         1.002500e+08           513.769231             160.000000  \n",
       "\n",
       "[8 rows x 21 columns]"
      ]
     },
     "execution_count": 104,
     "metadata": {},
     "output_type": "execute_result"
    }
   ],
   "source": [
    "df.describe()"
   ]
  },
  {
   "cell_type": "code",
   "execution_count": 105,
   "metadata": {},
   "outputs": [
    {
     "data": {
      "image/png": "[encoded data removed]",
      "text/plain": [
       "<Figure size 432x288 with 1 Axes>"
      ]
     },
     "metadata": {
      "needs_background": "light"
     },
     "output_type": "display_data"
    },
    {
     "name": "stdout",
     "output_type": "stream",
     "text": [
      "The histogram plot shows that majority of the liquidity scors are around 12-22\n"
     ]
    }
   ],
   "source": [
    "plt.hist(df['LiquidityScore'],color='green')\n",
    "plt.title('Liquidity Score Histogram')\n",
    "plt.xlabel('Liquidity Score')\n",
    "plt.ylabel('count')\n",
    "plt.show()\n",
    "print(\"The histogram plot shows that majority of the liquidity scors are around 12-22\")"
   ]
  },
  {
   "cell_type": "code",
   "execution_count": 106,
   "metadata": {},
   "outputs": [
    {
     "data": {
      "image/png": "[encoded data removed]",
      "text/plain": [
       "<Figure size 432x288 with 1 Axes>"
      ]
     },
     "metadata": {
      "needs_background": "light"
     },
     "output_type": "display_data"
    },
    {
     "name": "stdout",
     "output_type": "stream",
     "text": [
      "It can be seen from this QQ plot that there are some outliers as the points that are plotted do not lie in the straight line\n"
     ]
    }
   ],
   "source": [
    "stats.probplot(df['LiquidityScore'], dist=\"norm\", plot=pylab)\n",
    "pylab.show()\n",
    "print(\"It can be seen from this QQ plot that there are some outliers as the points that are plotted do not lie in the straight line\")"
   ]
  },
  {
   "cell_type": "code",
   "execution_count": 107,
   "metadata": {},
   "outputs": [
    {
     "data": {
      "image/png": "[encoded data removed]",
      "text/plain": [
       "<Figure size 432x288 with 1 Axes>"
      ]
     },
     "metadata": {
      "needs_background": "light"
     },
     "output_type": "display_data"
    },
    {
     "name": "stdout",
     "output_type": "stream",
     "text": [
      "The scatter plot shows that a person's liquidity score is higher as the number of trade gets higher\n"
     ]
    }
   ],
   "source": [
    "_ = plt.plot(df['LiquidityScore'],df['n_trades'],marker='.', linestyle='none')\n",
    "plt.xlabel('Liquidity Score')\n",
    "plt.ylabel('Number of trades')\n",
    "plt.show()\n",
    "print(\"The scatter plot shows that a person's liquidity score is higher as the number of trade gets higher\")"
   ]
  },
  {
   "cell_type": "code",
   "execution_count": 108,
   "metadata": {},
   "outputs": [
    {
     "data": {
      "image/png": "[encoded data removed]",
      "text/plain": [
       "<Figure size 432x288 with 1 Axes>"
      ]
     },
     "metadata": {
      "needs_background": "light"
     },
     "output_type": "display_data"
    },
    {
     "name": "stdout",
     "output_type": "stream",
     "text": [
      "\n"
     ]
    }
   ],
   "source": [
    "#visualize correlations using heatmap\n",
    "_ = df.corr()\n",
    "plt.pcolor(_, alpha=.9)\n",
    "plt.title(\"Heat map showing attribute cross‐correlations\")\n",
    "plt.show()\n",
    "print()"
   ]
  },
  {
   "cell_type": "code",
   "execution_count": 138,
   "metadata": {},
   "outputs": [],
   "source": [
    "normed_df = (df[['n_trades','Maturity At Issue months','volume_trades']] - df[['n_trades','Maturity At Issue months','volume_trades']].min()) / (df[['n_trades','Maturity At Issue months','volume_trades']].max() - df[['n_trades','Maturity At Issue months','volume_trades']].min())"
   ]
  },
  {
   "cell_type": "code",
   "execution_count": 146,
   "metadata": {},
   "outputs": [
    {
     "data": {
      "image/png": "[encoded data removed]",
      "text/plain": [
       "<Figure size 432x288 with 1 Axes>"
      ]
     },
     "metadata": {
      "needs_background": "light"
     },
     "output_type": "display_data"
    },
    {
     "name": "stdout",
     "output_type": "stream",
     "text": [
      "1 = n_trades\n",
      "2 = Maturity at Issue Months\n",
      "3 = Volume Trades\n",
      "Hardly any information can be obtained through the unnormalized dataset\n"
     ]
    }
   ],
   "source": [
    "plt.boxplot(df[['n_trades','Maturity At Issue months','volume_trades']].values)\n",
    "plt.xlabel(\"Attribute Index\")\n",
    "plt.ylabel((\"Quartile Ranges - Not normalized \"))\n",
    "plt.show()\n",
    "print(\"1 = n_trades\")\n",
    "print(\"2 = Maturity at Issue Months\")\n",
    "print(\"3 = Volume Trades\")\n",
    "print(\"Hardly any information can be obtained through the unnormalized dataset\")"
   ]
  },
  {
   "cell_type": "code",
   "execution_count": 147,
   "metadata": {},
   "outputs": [
    {
     "data": {
      "image/png": "[encoded data removed]",
      "text/plain": [
       "<Figure size 432x288 with 1 Axes>"
      ]
     },
     "metadata": {
      "needs_background": "light"
     },
     "output_type": "display_data"
    },
    {
     "name": "stdout",
     "output_type": "stream",
     "text": [
      "1 = n_trades\n",
      "2 = Maturity at Issue Months\n",
      "3 = Volume Trades\n",
      "outliers are easier to be spotted with the normalized dataset\n"
     ]
    }
   ],
   "source": [
    "plt.boxplot(normed_df.values)\n",
    "plt.xlabel(\"Attribute Index\")\n",
    "plt.ylabel((\"Quartile Ranges - Normalized \"))\n",
    "plt.show()\n",
    "print(\"1 = n_trades\")\n",
    "print(\"2 = Maturity at Issue Months\")\n",
    "print(\"3 = Volume Trades\")\n",
    "print(\"outliers are easier to be spotted with the normalized dataset\")"
   ]
  },
  {
   "cell_type": "code",
   "execution_count": 148,
   "metadata": {},
   "outputs": [
    {
     "name": "stdout",
     "output_type": "stream",
     "text": [
      "My name is Yohanes Susanto\n",
      "My NetID is: yohanes2\n",
      "I hereby certify that I have read the University policy on Academic Integrity and that I am not in violation.\n"
     ]
    }
   ],
   "source": [
    "print(\"My name is Yohanes Susanto\")\n",
    "print(\"My NetID is: yohanes2\")\n",
    "print(\"I hereby certify that I have read the University policy on Academic Integrity and that I am not in violation.\")"
   ]
  },
  {
   "cell_type": "code",
   "execution_count": null,
   "metadata": {},
   "outputs": [],
   "source": []
  }
 ],
 "metadata": {
  "kernelspec": {
   "display_name": "Python 3",
   "language": "python",
   "name": "python3"
  },
  "language_info": {
   "codemirror_mode": {
    "name": "ipython",
    "version": 3
   },
   "file_extension": ".py",
   "mimetype": "text/x-python",
   "name": "python",
   "nbconvert_exporter": "python",
   "pygments_lexer": "ipython3",
   "version": "3.7.3"
  }
 },
 "nbformat": 4,
 "nbformat_minor": 4
}
